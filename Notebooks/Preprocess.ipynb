{
 "cells": [
  {
   "cell_type": "code",
   "execution_count": 1,
   "id": "59ce6097",
   "metadata": {},
   "outputs": [
    {
     "name": "stderr",
     "output_type": "stream",
     "text": [
      "/usr/lib/python3/dist-packages/scipy/__init__.py:146: UserWarning: A NumPy version >=1.17.3 and <1.25.0 is required for this version of SciPy (detected version 1.26.4\n",
      "  warnings.warn(f\"A NumPy version >={np_minversion} and <{np_maxversion}\"\n"
     ]
    }
   ],
   "source": [
    "import pandas as pd\n",
    "from nltk.stem import WordNetLemmatizer"
   ]
  },
  {
   "cell_type": "code",
   "execution_count": 2,
   "id": "ae726fb2",
   "metadata": {},
   "outputs": [],
   "source": [
    "df = pd.read_csv(\"anonym_data.csv\")"
   ]
  },
  {
   "cell_type": "code",
   "execution_count": 3,
   "id": "1985f753",
   "metadata": {},
   "outputs": [
    {
     "data": {
      "text/html": [
       "<div>\n",
       "<style scoped>\n",
       "    .dataframe tbody tr th:only-of-type {\n",
       "        vertical-align: middle;\n",
       "    }\n",
       "\n",
       "    .dataframe tbody tr th {\n",
       "        vertical-align: top;\n",
       "    }\n",
       "\n",
       "    .dataframe thead th {\n",
       "        text-align: right;\n",
       "    }\n",
       "</style>\n",
       "<table border=\"1\" class=\"dataframe\">\n",
       "  <thead>\n",
       "    <tr style=\"text-align: right;\">\n",
       "      <th></th>\n",
       "      <th>Unnamed: 0</th>\n",
       "      <th>clnt_id</th>\n",
       "      <th>bank_id</th>\n",
       "      <th>acc_id</th>\n",
       "      <th>txn_id</th>\n",
       "      <th>txn_date</th>\n",
       "      <th>amt</th>\n",
       "      <th>cat</th>\n",
       "      <th>merchant</th>\n",
       "    </tr>\n",
       "  </thead>\n",
       "  <tbody>\n",
       "    <tr>\n",
       "      <th>0</th>\n",
       "      <td>0</td>\n",
       "      <td>2043435</td>\n",
       "      <td>681144</td>\n",
       "      <td>681144</td>\n",
       "      <td>681197</td>\n",
       "      <td>31/07/2023 0:00</td>\n",
       "      <td>6.286</td>\n",
       "      <td>Shops</td>\n",
       "      <td>NaN</td>\n",
       "    </tr>\n",
       "    <tr>\n",
       "      <th>1</th>\n",
       "      <td>1</td>\n",
       "      <td>2043435</td>\n",
       "      <td>681144</td>\n",
       "      <td>681144</td>\n",
       "      <td>681170</td>\n",
       "      <td>31/07/2023 0:00</td>\n",
       "      <td>6.286</td>\n",
       "      <td>Shops</td>\n",
       "      <td>NaN</td>\n",
       "    </tr>\n",
       "    <tr>\n",
       "      <th>2</th>\n",
       "      <td>2</td>\n",
       "      <td>2043435</td>\n",
       "      <td>681144</td>\n",
       "      <td>681144</td>\n",
       "      <td>681154</td>\n",
       "      <td>01/08/2023 0:00</td>\n",
       "      <td>2.268</td>\n",
       "      <td>Shops</td>\n",
       "      <td>NaN</td>\n",
       "    </tr>\n",
       "    <tr>\n",
       "      <th>3</th>\n",
       "      <td>3</td>\n",
       "      <td>2043457</td>\n",
       "      <td>681144</td>\n",
       "      <td>681144</td>\n",
       "      <td>681251</td>\n",
       "      <td>25/07/2023 0:00</td>\n",
       "      <td>59.100</td>\n",
       "      <td>Shops</td>\n",
       "      <td>1INFINITE</td>\n",
       "    </tr>\n",
       "    <tr>\n",
       "      <th>4</th>\n",
       "      <td>4</td>\n",
       "      <td>2043457</td>\n",
       "      <td>681144</td>\n",
       "      <td>681144</td>\n",
       "      <td>681279</td>\n",
       "      <td>14/08/2023 0:00</td>\n",
       "      <td>4.924</td>\n",
       "      <td>Shops</td>\n",
       "      <td>1INFINITE</td>\n",
       "    </tr>\n",
       "  </tbody>\n",
       "</table>\n",
       "</div>"
      ],
      "text/plain": [
       "   Unnamed: 0  clnt_id  bank_id  acc_id  txn_id         txn_date     amt  \\\n",
       "0           0  2043435   681144  681144  681197  31/07/2023 0:00   6.286   \n",
       "1           1  2043435   681144  681144  681170  31/07/2023 0:00   6.286   \n",
       "2           2  2043435   681144  681144  681154  01/08/2023 0:00   2.268   \n",
       "3           3  2043457   681144  681144  681251  25/07/2023 0:00  59.100   \n",
       "4           4  2043457   681144  681144  681279  14/08/2023 0:00   4.924   \n",
       "\n",
       "     cat   merchant  \n",
       "0  Shops        NaN  \n",
       "1  Shops        NaN  \n",
       "2  Shops        NaN  \n",
       "3  Shops  1INFINITE  \n",
       "4  Shops  1INFINITE  "
      ]
     },
     "execution_count": 3,
     "metadata": {},
     "output_type": "execute_result"
    }
   ],
   "source": [
    "df.head()"
   ]
  },
  {
   "cell_type": "code",
   "execution_count": 4,
   "id": "08b6aaf2",
   "metadata": {},
   "outputs": [
    {
     "data": {
      "text/plain": [
       "Unnamed: 0      int64\n",
       "clnt_id         int64\n",
       "bank_id         int64\n",
       "acc_id          int64\n",
       "txn_id          int64\n",
       "txn_date       object\n",
       "amt           float64\n",
       "cat            object\n",
       "merchant       object\n",
       "dtype: object"
      ]
     },
     "execution_count": 4,
     "metadata": {},
     "output_type": "execute_result"
    }
   ],
   "source": [
    "df.dtypes"
   ]
  },
  {
   "cell_type": "code",
   "execution_count": 5,
   "id": "197fc6ff",
   "metadata": {},
   "outputs": [
    {
     "name": "stderr",
     "output_type": "stream",
     "text": [
      "/tmp/ipykernel_8688/3408429673.py:2: UserWarning: Parsing dates in %d/%m/%Y %H:%M format when dayfirst=False (the default) was specified. Pass `dayfirst=True` or specify a format to silence this warning.\n",
      "  df['txn_date'] = pd.to_datetime(df[\"txn_date\"])\n"
     ]
    }
   ],
   "source": [
    "# txn_date should be of datetime type for comparisions\n",
    "df['txn_date'] = pd.to_datetime(df[\"txn_date\"])"
   ]
  },
  {
   "cell_type": "code",
   "execution_count": 6,
   "id": "a984d315",
   "metadata": {},
   "outputs": [],
   "source": [
    "# df['txn_year'] = df['txn_date'].dt.year\n",
    "# df['txn_month'] = df['txn_date'].dt.month\n",
    "# df['txn_day'] = df['txn_date'].dt.day\n",
    "# df['txn_day_of_week'] = df['txn_date'].dt.dayofweek\n",
    "# df['txn_week_of_month'] = df.txn_date.apply(lambda d: (d.day-1) // 7 + 1)\n",
    "# df['txn_day_of_year'] = df.txn_date.apply(lambda x: x.dayofyear)\n",
    "# df['txn_week_of_year'] = df.txn_date.apply(lambda x: x.weekofyear)\n"
   ]
  },
  {
   "cell_type": "code",
   "execution_count": 6,
   "id": "804020e5",
   "metadata": {},
   "outputs": [],
   "source": [
    "lemmatizer = WordNetLemmatizer()\n",
    "df[\"lemm_merchant\"] = df[\"merchant\"].apply(lambda x: lemmatizer.lemmatize(str(x).lower()))\n",
    "df[\"lemm_cat\"] = df[\"cat\"].apply(lambda x: lemmatizer.lemmatize(str(x).lower()))\n"
   ]
  },
  {
   "cell_type": "code",
   "execution_count": 7,
   "id": "364b103e",
   "metadata": {},
   "outputs": [
    {
     "data": {
      "text/html": [
       "<div>\n",
       "<style scoped>\n",
       "    .dataframe tbody tr th:only-of-type {\n",
       "        vertical-align: middle;\n",
       "    }\n",
       "\n",
       "    .dataframe tbody tr th {\n",
       "        vertical-align: top;\n",
       "    }\n",
       "\n",
       "    .dataframe thead th {\n",
       "        text-align: right;\n",
       "    }\n",
       "</style>\n",
       "<table border=\"1\" class=\"dataframe\">\n",
       "  <thead>\n",
       "    <tr style=\"text-align: right;\">\n",
       "      <th></th>\n",
       "      <th>Unnamed: 0</th>\n",
       "      <th>clnt_id</th>\n",
       "      <th>bank_id</th>\n",
       "      <th>acc_id</th>\n",
       "      <th>txn_id</th>\n",
       "      <th>txn_date</th>\n",
       "      <th>amt</th>\n",
       "      <th>cat</th>\n",
       "      <th>merchant</th>\n",
       "      <th>lemm_merchant</th>\n",
       "      <th>lemm_cat</th>\n",
       "    </tr>\n",
       "  </thead>\n",
       "  <tbody>\n",
       "    <tr>\n",
       "      <th>0</th>\n",
       "      <td>0</td>\n",
       "      <td>2043435</td>\n",
       "      <td>681144</td>\n",
       "      <td>681144</td>\n",
       "      <td>681197</td>\n",
       "      <td>2023-07-31</td>\n",
       "      <td>6.286</td>\n",
       "      <td>Shops</td>\n",
       "      <td>NaN</td>\n",
       "      <td>nan</td>\n",
       "      <td>shop</td>\n",
       "    </tr>\n",
       "    <tr>\n",
       "      <th>1</th>\n",
       "      <td>1</td>\n",
       "      <td>2043435</td>\n",
       "      <td>681144</td>\n",
       "      <td>681144</td>\n",
       "      <td>681170</td>\n",
       "      <td>2023-07-31</td>\n",
       "      <td>6.286</td>\n",
       "      <td>Shops</td>\n",
       "      <td>NaN</td>\n",
       "      <td>nan</td>\n",
       "      <td>shop</td>\n",
       "    </tr>\n",
       "    <tr>\n",
       "      <th>2</th>\n",
       "      <td>2</td>\n",
       "      <td>2043435</td>\n",
       "      <td>681144</td>\n",
       "      <td>681144</td>\n",
       "      <td>681154</td>\n",
       "      <td>2023-08-01</td>\n",
       "      <td>2.268</td>\n",
       "      <td>Shops</td>\n",
       "      <td>NaN</td>\n",
       "      <td>nan</td>\n",
       "      <td>shop</td>\n",
       "    </tr>\n",
       "    <tr>\n",
       "      <th>3</th>\n",
       "      <td>3</td>\n",
       "      <td>2043457</td>\n",
       "      <td>681144</td>\n",
       "      <td>681144</td>\n",
       "      <td>681251</td>\n",
       "      <td>2023-07-25</td>\n",
       "      <td>59.100</td>\n",
       "      <td>Shops</td>\n",
       "      <td>1INFINITE</td>\n",
       "      <td>1infinite</td>\n",
       "      <td>shop</td>\n",
       "    </tr>\n",
       "    <tr>\n",
       "      <th>4</th>\n",
       "      <td>4</td>\n",
       "      <td>2043457</td>\n",
       "      <td>681144</td>\n",
       "      <td>681144</td>\n",
       "      <td>681279</td>\n",
       "      <td>2023-08-14</td>\n",
       "      <td>4.924</td>\n",
       "      <td>Shops</td>\n",
       "      <td>1INFINITE</td>\n",
       "      <td>1infinite</td>\n",
       "      <td>shop</td>\n",
       "    </tr>\n",
       "  </tbody>\n",
       "</table>\n",
       "</div>"
      ],
      "text/plain": [
       "   Unnamed: 0  clnt_id  bank_id  acc_id  txn_id   txn_date     amt    cat  \\\n",
       "0           0  2043435   681144  681144  681197 2023-07-31   6.286  Shops   \n",
       "1           1  2043435   681144  681144  681170 2023-07-31   6.286  Shops   \n",
       "2           2  2043435   681144  681144  681154 2023-08-01   2.268  Shops   \n",
       "3           3  2043457   681144  681144  681251 2023-07-25  59.100  Shops   \n",
       "4           4  2043457   681144  681144  681279 2023-08-14   4.924  Shops   \n",
       "\n",
       "    merchant lemm_merchant lemm_cat  \n",
       "0        NaN           nan     shop  \n",
       "1        NaN           nan     shop  \n",
       "2        NaN           nan     shop  \n",
       "3  1INFINITE     1infinite     shop  \n",
       "4  1INFINITE     1infinite     shop  "
      ]
     },
     "execution_count": 7,
     "metadata": {},
     "output_type": "execute_result"
    }
   ],
   "source": [
    "df.head()"
   ]
  },
  {
   "cell_type": "code",
   "execution_count": 8,
   "id": "8cdfe145",
   "metadata": {},
   "outputs": [
    {
     "data": {
      "text/plain": [
       "Unnamed: 0            0\n",
       "clnt_id               0\n",
       "bank_id               0\n",
       "acc_id                0\n",
       "txn_id                0\n",
       "txn_date              0\n",
       "amt                   0\n",
       "cat                   0\n",
       "merchant         124881\n",
       "lemm_merchant         0\n",
       "lemm_cat              0\n",
       "dtype: int64"
      ]
     },
     "execution_count": 8,
     "metadata": {},
     "output_type": "execute_result"
    }
   ],
   "source": [
    "df.isnull().sum()"
   ]
  },
  {
   "cell_type": "code",
   "execution_count": 9,
   "id": "39c5d83b",
   "metadata": {},
   "outputs": [],
   "source": [
    "df[\"merchant\"] = df[\"merchant\"].fillna(\"N/A\")"
   ]
  },
  {
   "cell_type": "code",
   "execution_count": 10,
   "id": "8abac29a",
   "metadata": {},
   "outputs": [
    {
     "data": {
      "text/plain": [
       "Unnamed: 0       0\n",
       "clnt_id          0\n",
       "bank_id          0\n",
       "acc_id           0\n",
       "txn_id           0\n",
       "txn_date         0\n",
       "amt              0\n",
       "cat              0\n",
       "merchant         0\n",
       "lemm_merchant    0\n",
       "lemm_cat         0\n",
       "dtype: int64"
      ]
     },
     "execution_count": 10,
     "metadata": {},
     "output_type": "execute_result"
    }
   ],
   "source": [
    "df.isnull().sum()"
   ]
  },
  {
   "cell_type": "code",
   "execution_count": 11,
   "id": "0f20b3a2",
   "metadata": {},
   "outputs": [
    {
     "data": {
      "text/html": [
       "<div>\n",
       "<style scoped>\n",
       "    .dataframe tbody tr th:only-of-type {\n",
       "        vertical-align: middle;\n",
       "    }\n",
       "\n",
       "    .dataframe tbody tr th {\n",
       "        vertical-align: top;\n",
       "    }\n",
       "\n",
       "    .dataframe thead th {\n",
       "        text-align: right;\n",
       "    }\n",
       "</style>\n",
       "<table border=\"1\" class=\"dataframe\">\n",
       "  <thead>\n",
       "    <tr style=\"text-align: right;\">\n",
       "      <th></th>\n",
       "      <th>Unnamed: 0</th>\n",
       "      <th>clnt_id</th>\n",
       "      <th>bank_id</th>\n",
       "      <th>acc_id</th>\n",
       "      <th>txn_id</th>\n",
       "      <th>txn_date</th>\n",
       "      <th>amt</th>\n",
       "      <th>cat</th>\n",
       "      <th>merchant</th>\n",
       "      <th>lemm_merchant</th>\n",
       "      <th>lemm_cat</th>\n",
       "    </tr>\n",
       "  </thead>\n",
       "  <tbody>\n",
       "    <tr>\n",
       "      <th>0</th>\n",
       "      <td>0</td>\n",
       "      <td>2043435</td>\n",
       "      <td>681144</td>\n",
       "      <td>681144</td>\n",
       "      <td>681197</td>\n",
       "      <td>2023-07-31</td>\n",
       "      <td>6.286</td>\n",
       "      <td>Shops</td>\n",
       "      <td>N/A</td>\n",
       "      <td>nan</td>\n",
       "      <td>shop</td>\n",
       "    </tr>\n",
       "    <tr>\n",
       "      <th>1</th>\n",
       "      <td>1</td>\n",
       "      <td>2043435</td>\n",
       "      <td>681144</td>\n",
       "      <td>681144</td>\n",
       "      <td>681170</td>\n",
       "      <td>2023-07-31</td>\n",
       "      <td>6.286</td>\n",
       "      <td>Shops</td>\n",
       "      <td>N/A</td>\n",
       "      <td>nan</td>\n",
       "      <td>shop</td>\n",
       "    </tr>\n",
       "    <tr>\n",
       "      <th>2</th>\n",
       "      <td>2</td>\n",
       "      <td>2043435</td>\n",
       "      <td>681144</td>\n",
       "      <td>681144</td>\n",
       "      <td>681154</td>\n",
       "      <td>2023-08-01</td>\n",
       "      <td>2.268</td>\n",
       "      <td>Shops</td>\n",
       "      <td>N/A</td>\n",
       "      <td>nan</td>\n",
       "      <td>shop</td>\n",
       "    </tr>\n",
       "    <tr>\n",
       "      <th>3</th>\n",
       "      <td>3</td>\n",
       "      <td>2043457</td>\n",
       "      <td>681144</td>\n",
       "      <td>681144</td>\n",
       "      <td>681251</td>\n",
       "      <td>2023-07-25</td>\n",
       "      <td>59.100</td>\n",
       "      <td>Shops</td>\n",
       "      <td>1INFINITE</td>\n",
       "      <td>1infinite</td>\n",
       "      <td>shop</td>\n",
       "    </tr>\n",
       "    <tr>\n",
       "      <th>4</th>\n",
       "      <td>4</td>\n",
       "      <td>2043457</td>\n",
       "      <td>681144</td>\n",
       "      <td>681144</td>\n",
       "      <td>681279</td>\n",
       "      <td>2023-08-14</td>\n",
       "      <td>4.924</td>\n",
       "      <td>Shops</td>\n",
       "      <td>1INFINITE</td>\n",
       "      <td>1infinite</td>\n",
       "      <td>shop</td>\n",
       "    </tr>\n",
       "  </tbody>\n",
       "</table>\n",
       "</div>"
      ],
      "text/plain": [
       "   Unnamed: 0  clnt_id  bank_id  acc_id  txn_id   txn_date     amt    cat  \\\n",
       "0           0  2043435   681144  681144  681197 2023-07-31   6.286  Shops   \n",
       "1           1  2043435   681144  681144  681170 2023-07-31   6.286  Shops   \n",
       "2           2  2043435   681144  681144  681154 2023-08-01   2.268  Shops   \n",
       "3           3  2043457   681144  681144  681251 2023-07-25  59.100  Shops   \n",
       "4           4  2043457   681144  681144  681279 2023-08-14   4.924  Shops   \n",
       "\n",
       "    merchant lemm_merchant lemm_cat  \n",
       "0        N/A           nan     shop  \n",
       "1        N/A           nan     shop  \n",
       "2        N/A           nan     shop  \n",
       "3  1INFINITE     1infinite     shop  \n",
       "4  1INFINITE     1infinite     shop  "
      ]
     },
     "execution_count": 11,
     "metadata": {},
     "output_type": "execute_result"
    }
   ],
   "source": [
    "df.head()"
   ]
  },
  {
   "cell_type": "code",
   "execution_count": 12,
   "id": "3cd6075d",
   "metadata": {},
   "outputs": [
    {
     "data": {
      "text/plain": [
       "32"
      ]
     },
     "execution_count": 12,
     "metadata": {},
     "output_type": "execute_result"
    }
   ],
   "source": [
    "len(df[\"cat\"].unique()) # Adding all to prompt will have a negative effect"
   ]
  },
  {
   "cell_type": "code",
   "execution_count": 13,
   "id": "a1a1494c",
   "metadata": {},
   "outputs": [
    {
     "data": {
      "text/plain": [
       "3867"
      ]
     },
     "execution_count": 13,
     "metadata": {},
     "output_type": "execute_result"
    }
   ],
   "source": [
    "len(df[\"merchant\"].unique()) # So much merchants, can't add to prompts"
   ]
  },
  {
   "cell_type": "code",
   "execution_count": null,
   "id": "7dbaade1",
   "metadata": {},
   "outputs": [],
   "source": []
  },
  {
   "cell_type": "code",
   "execution_count": null,
   "id": "501a76b0",
   "metadata": {},
   "outputs": [],
   "source": []
  },
  {
   "cell_type": "code",
   "execution_count": 14,
   "id": "222147a4",
   "metadata": {},
   "outputs": [],
   "source": [
    "df.to_csv(\"Processed_Data.csv\",index=None)"
   ]
  },
  {
   "cell_type": "code",
   "execution_count": null,
   "id": "d5ab34f9",
   "metadata": {},
   "outputs": [],
   "source": []
  },
  {
   "cell_type": "code",
   "execution_count": null,
   "id": "dea7e20f",
   "metadata": {},
   "outputs": [],
   "source": []
  },
  {
   "cell_type": "code",
   "execution_count": null,
   "id": "362b3018-0b65-4fab-9b2f-4e62e7cf4610",
   "metadata": {},
   "outputs": [],
   "source": []
  }
 ],
 "metadata": {
  "kernelspec": {
   "display_name": "Python 3 (ipykernel)",
   "language": "python",
   "name": "python3"
  },
  "language_info": {
   "codemirror_mode": {
    "name": "ipython",
    "version": 3
   },
   "file_extension": ".py",
   "mimetype": "text/x-python",
   "name": "python",
   "nbconvert_exporter": "python",
   "pygments_lexer": "ipython3",
   "version": "3.10.12"
  }
 },
 "nbformat": 4,
 "nbformat_minor": 5
}
