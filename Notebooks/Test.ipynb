{
 "cells": [
  {
   "cell_type": "code",
   "execution_count": 67,
   "id": "db9e3111",
   "metadata": {},
   "outputs": [],
   "source": [
    "import pandas as pd"
   ]
  },
  {
   "cell_type": "code",
   "execution_count": 68,
   "id": "3f5c2124",
   "metadata": {},
   "outputs": [],
   "source": [
    "data = pd.read_csv(\"Processed_Data.csv\")\n",
    "data['txn_date'] = pd.to_datetime(data[\"txn_date\"])\n"
   ]
  },
  {
   "cell_type": "code",
   "execution_count": 69,
   "id": "78ec3e41",
   "metadata": {},
   "outputs": [
    {
     "data": {
      "text/plain": [
       "Timestamp('2023-06-01 00:00:00')"
      ]
     },
     "execution_count": 69,
     "metadata": {},
     "output_type": "execute_result"
    }
   ],
   "source": [
    "data[\"txn_date\"].min()"
   ]
  },
  {
   "cell_type": "code",
   "execution_count": 42,
   "id": "fe72934b",
   "metadata": {},
   "outputs": [
    {
     "data": {
      "text/plain": [
       "clnt_id            int64\n",
       "bank_id            int64\n",
       "acc_id             int64\n",
       "txn_id             int64\n",
       "txn_date          object\n",
       "desc              object\n",
       "amt              float64\n",
       "cat               object\n",
       "merchant          object\n",
       "lemm_merchant     object\n",
       "lemm_cat          object\n",
       "dtype: object"
      ]
     },
     "execution_count": 42,
     "metadata": {},
     "output_type": "execute_result"
    }
   ],
   "source": [
    "data.dtypes"
   ]
  },
  {
   "cell_type": "code",
   "execution_count": 45,
   "id": "2616cd8f",
   "metadata": {},
   "outputs": [],
   "source": [
    "data = data[data['clnt_id'] == 880]"
   ]
  },
  {
   "cell_type": "markdown",
   "id": "d7dc685c",
   "metadata": {},
   "source": [
    "##### How much did I spent on empower during august 2023 "
   ]
  },
  {
   "cell_type": "code",
   "execution_count": 53,
   "id": "be48ae20",
   "metadata": {},
   "outputs": [
    {
     "data": {
      "text/plain": [
       "-8780.134"
      ]
     },
     "execution_count": 53,
     "metadata": {},
     "output_type": "execute_result"
    }
   ],
   "source": [
    "data[(data[\"lemm_merchant\"] == \"empower\") & (data[\"txn_date\"]>=pd.to_datetime(\"2023-08-01\")) & (data[\"txn_date\"]<=pd.to_datetime(\"2023-08-31\")) & (data[\"amt\"]<0)][\"amt\"].sum()"
   ]
  },
  {
   "cell_type": "markdown",
   "id": "807f7113",
   "metadata": {},
   "source": [
    "##### What are my transactions on moneylion so far."
   ]
  },
  {
   "cell_type": "code",
   "execution_count": 49,
   "id": "f8a30045",
   "metadata": {},
   "outputs": [
    {
     "data": {
      "text/html": [
       "<div>\n",
       "<style scoped>\n",
       "    .dataframe tbody tr th:only-of-type {\n",
       "        vertical-align: middle;\n",
       "    }\n",
       "\n",
       "    .dataframe tbody tr th {\n",
       "        vertical-align: top;\n",
       "    }\n",
       "\n",
       "    .dataframe thead th {\n",
       "        text-align: right;\n",
       "    }\n",
       "</style>\n",
       "<table border=\"1\" class=\"dataframe\">\n",
       "  <thead>\n",
       "    <tr style=\"text-align: right;\">\n",
       "      <th></th>\n",
       "      <th>clnt_id</th>\n",
       "      <th>bank_id</th>\n",
       "      <th>acc_id</th>\n",
       "      <th>txn_id</th>\n",
       "      <th>txn_date</th>\n",
       "      <th>desc</th>\n",
       "      <th>amt</th>\n",
       "      <th>cat</th>\n",
       "      <th>merchant</th>\n",
       "      <th>lemm_merchant</th>\n",
       "      <th>lemm_cat</th>\n",
       "    </tr>\n",
       "  </thead>\n",
       "  <tbody>\n",
       "    <tr>\n",
       "      <th>23580</th>\n",
       "      <td>880</td>\n",
       "      <td>265</td>\n",
       "      <td>299</td>\n",
       "      <td>30578</td>\n",
       "      <td>2023-08-15</td>\n",
       "      <td>Debit Purchase -visa Card 2501instacash Repaym...</td>\n",
       "      <td>-13.598</td>\n",
       "      <td>Service</td>\n",
       "      <td>MoneyLion</td>\n",
       "      <td>moneylion</td>\n",
       "      <td>service</td>\n",
       "    </tr>\n",
       "    <tr>\n",
       "      <th>23789</th>\n",
       "      <td>880</td>\n",
       "      <td>265</td>\n",
       "      <td>299</td>\n",
       "      <td>63254</td>\n",
       "      <td>2023-08-29</td>\n",
       "      <td>Debit Purchase -visa Card 2501instacash Repaym...</td>\n",
       "      <td>-14.598</td>\n",
       "      <td>Service</td>\n",
       "      <td>MoneyLion</td>\n",
       "      <td>moneylion</td>\n",
       "      <td>service</td>\n",
       "    </tr>\n",
       "    <tr>\n",
       "      <th>24217</th>\n",
       "      <td>880</td>\n",
       "      <td>265</td>\n",
       "      <td>299</td>\n",
       "      <td>156023</td>\n",
       "      <td>2023-07-05</td>\n",
       "      <td>Debit Purchase -visa Card 2501instacash Repaym...</td>\n",
       "      <td>-13.598</td>\n",
       "      <td>Service</td>\n",
       "      <td>MoneyLion</td>\n",
       "      <td>moneylion</td>\n",
       "      <td>service</td>\n",
       "    </tr>\n",
       "    <tr>\n",
       "      <th>24219</th>\n",
       "      <td>880</td>\n",
       "      <td>265</td>\n",
       "      <td>299</td>\n",
       "      <td>134485</td>\n",
       "      <td>2023-08-01</td>\n",
       "      <td>Debit Purchase -visa Card 2501instacash Repaym...</td>\n",
       "      <td>-14.596</td>\n",
       "      <td>Service</td>\n",
       "      <td>MoneyLion</td>\n",
       "      <td>moneylion</td>\n",
       "      <td>service</td>\n",
       "    </tr>\n",
       "    <tr>\n",
       "      <th>24344</th>\n",
       "      <td>880</td>\n",
       "      <td>265</td>\n",
       "      <td>299</td>\n",
       "      <td>129542</td>\n",
       "      <td>2023-07-20</td>\n",
       "      <td>Debit Purchase -visa Card 2501instacash Repaym...</td>\n",
       "      <td>-14.398</td>\n",
       "      <td>Service</td>\n",
       "      <td>MoneyLion</td>\n",
       "      <td>moneylion</td>\n",
       "      <td>service</td>\n",
       "    </tr>\n",
       "    <tr>\n",
       "      <th>...</th>\n",
       "      <td>...</td>\n",
       "      <td>...</td>\n",
       "      <td>...</td>\n",
       "      <td>...</td>\n",
       "      <td>...</td>\n",
       "      <td>...</td>\n",
       "      <td>...</td>\n",
       "      <td>...</td>\n",
       "      <td>...</td>\n",
       "      <td>...</td>\n",
       "      <td>...</td>\n",
       "    </tr>\n",
       "    <tr>\n",
       "      <th>235446</th>\n",
       "      <td>880</td>\n",
       "      <td>95</td>\n",
       "      <td>106</td>\n",
       "      <td>117233</td>\n",
       "      <td>2023-09-22</td>\n",
       "      <td>External Withdrawal ML PLUS / MEMBRSHP 2023092...</td>\n",
       "      <td>-0.920</td>\n",
       "      <td>Transfer</td>\n",
       "      <td>MoneyLion</td>\n",
       "      <td>moneylion</td>\n",
       "      <td>transfer</td>\n",
       "    </tr>\n",
       "    <tr>\n",
       "      <th>235479</th>\n",
       "      <td>880</td>\n",
       "      <td>95</td>\n",
       "      <td>106</td>\n",
       "      <td>72377</td>\n",
       "      <td>2023-09-15</td>\n",
       "      <td>External Withdrawal ML PLUS / MEMBRSHP 2023091...</td>\n",
       "      <td>-0.920</td>\n",
       "      <td>Transfer</td>\n",
       "      <td>MoneyLion</td>\n",
       "      <td>moneylion</td>\n",
       "      <td>transfer</td>\n",
       "    </tr>\n",
       "    <tr>\n",
       "      <th>235484</th>\n",
       "      <td>880</td>\n",
       "      <td>95</td>\n",
       "      <td>106</td>\n",
       "      <td>181971</td>\n",
       "      <td>2023-07-07</td>\n",
       "      <td>External Withdrawal ML PLUS / MEMBRSHP 2023070...</td>\n",
       "      <td>-0.920</td>\n",
       "      <td>Transfer</td>\n",
       "      <td>MoneyLion</td>\n",
       "      <td>moneylion</td>\n",
       "      <td>transfer</td>\n",
       "    </tr>\n",
       "    <tr>\n",
       "      <th>235487</th>\n",
       "      <td>880</td>\n",
       "      <td>95</td>\n",
       "      <td>106</td>\n",
       "      <td>81539</td>\n",
       "      <td>2023-09-01</td>\n",
       "      <td>External Withdrawal ML PLUS / MEMBRSHP 2023083...</td>\n",
       "      <td>-0.920</td>\n",
       "      <td>Transfer</td>\n",
       "      <td>MoneyLion</td>\n",
       "      <td>moneylion</td>\n",
       "      <td>transfer</td>\n",
       "    </tr>\n",
       "    <tr>\n",
       "      <th>235602</th>\n",
       "      <td>880</td>\n",
       "      <td>788</td>\n",
       "      <td>906</td>\n",
       "      <td>141081</td>\n",
       "      <td>2023-06-16</td>\n",
       "      <td>External Withdrawal ML PLUS MEMBRSHP MONEYLION</td>\n",
       "      <td>-1.998</td>\n",
       "      <td>Transfer</td>\n",
       "      <td>MoneyLion</td>\n",
       "      <td>moneylion</td>\n",
       "      <td>transfer</td>\n",
       "    </tr>\n",
       "  </tbody>\n",
       "</table>\n",
       "<p>2105 rows × 11 columns</p>\n",
       "</div>"
      ],
      "text/plain": [
       "        clnt_id  bank_id  acc_id  txn_id   txn_date  \\\n",
       "23580       880      265     299   30578 2023-08-15   \n",
       "23789       880      265     299   63254 2023-08-29   \n",
       "24217       880      265     299  156023 2023-07-05   \n",
       "24219       880      265     299  134485 2023-08-01   \n",
       "24344       880      265     299  129542 2023-07-20   \n",
       "...         ...      ...     ...     ...        ...   \n",
       "235446      880       95     106  117233 2023-09-22   \n",
       "235479      880       95     106   72377 2023-09-15   \n",
       "235484      880       95     106  181971 2023-07-07   \n",
       "235487      880       95     106   81539 2023-09-01   \n",
       "235602      880      788     906  141081 2023-06-16   \n",
       "\n",
       "                                                     desc     amt       cat  \\\n",
       "23580   Debit Purchase -visa Card 2501instacash Repaym... -13.598   Service   \n",
       "23789   Debit Purchase -visa Card 2501instacash Repaym... -14.598   Service   \n",
       "24217   Debit Purchase -visa Card 2501instacash Repaym... -13.598   Service   \n",
       "24219   Debit Purchase -visa Card 2501instacash Repaym... -14.596   Service   \n",
       "24344   Debit Purchase -visa Card 2501instacash Repaym... -14.398   Service   \n",
       "...                                                   ...     ...       ...   \n",
       "235446  External Withdrawal ML PLUS / MEMBRSHP 2023092...  -0.920  Transfer   \n",
       "235479  External Withdrawal ML PLUS / MEMBRSHP 2023091...  -0.920  Transfer   \n",
       "235484  External Withdrawal ML PLUS / MEMBRSHP 2023070...  -0.920  Transfer   \n",
       "235487  External Withdrawal ML PLUS / MEMBRSHP 2023083...  -0.920  Transfer   \n",
       "235602     External Withdrawal ML PLUS MEMBRSHP MONEYLION  -1.998  Transfer   \n",
       "\n",
       "         merchant lemm_merchant  lemm_cat  \n",
       "23580   MoneyLion     moneylion   service  \n",
       "23789   MoneyLion     moneylion   service  \n",
       "24217   MoneyLion     moneylion   service  \n",
       "24219   MoneyLion     moneylion   service  \n",
       "24344   MoneyLion     moneylion   service  \n",
       "...           ...           ...       ...  \n",
       "235446  MoneyLion     moneylion  transfer  \n",
       "235479  MoneyLion     moneylion  transfer  \n",
       "235484  MoneyLion     moneylion  transfer  \n",
       "235487  MoneyLion     moneylion  transfer  \n",
       "235602  MoneyLion     moneylion  transfer  \n",
       "\n",
       "[2105 rows x 11 columns]"
      ]
     },
     "execution_count": 49,
     "metadata": {},
     "output_type": "execute_result"
    }
   ],
   "source": [
    "data[(data[\"lemm_merchant\"] == \"moneylion\") ]"
   ]
  },
  {
   "cell_type": "markdown",
   "id": "b8ac58f4",
   "metadata": {},
   "source": [
    "###### List my transaction during july 2023"
   ]
  },
  {
   "cell_type": "code",
   "execution_count": 52,
   "id": "4fde4757",
   "metadata": {},
   "outputs": [
    {
     "data": {
      "text/html": [
       "<div>\n",
       "<style scoped>\n",
       "    .dataframe tbody tr th:only-of-type {\n",
       "        vertical-align: middle;\n",
       "    }\n",
       "\n",
       "    .dataframe tbody tr th {\n",
       "        vertical-align: top;\n",
       "    }\n",
       "\n",
       "    .dataframe thead th {\n",
       "        text-align: right;\n",
       "    }\n",
       "</style>\n",
       "<table border=\"1\" class=\"dataframe\">\n",
       "  <thead>\n",
       "    <tr style=\"text-align: right;\">\n",
       "      <th></th>\n",
       "      <th>clnt_id</th>\n",
       "      <th>bank_id</th>\n",
       "      <th>acc_id</th>\n",
       "      <th>txn_id</th>\n",
       "      <th>txn_date</th>\n",
       "      <th>desc</th>\n",
       "      <th>amt</th>\n",
       "      <th>cat</th>\n",
       "      <th>merchant</th>\n",
       "      <th>lemm_merchant</th>\n",
       "      <th>lemm_cat</th>\n",
       "    </tr>\n",
       "  </thead>\n",
       "  <tbody>\n",
       "    <tr>\n",
       "      <th>641</th>\n",
       "      <td>880</td>\n",
       "      <td>830</td>\n",
       "      <td>957</td>\n",
       "      <td>152713</td>\n",
       "      <td>2023-07-18 00:00:00</td>\n",
       "      <td>POS Debit - Visa Check Card 2323 - APPLE CASH ...</td>\n",
       "      <td>-20.000</td>\n",
       "      <td>Shops</td>\n",
       "      <td>Apple Cash</td>\n",
       "      <td>apple cash</td>\n",
       "      <td>shop</td>\n",
       "    </tr>\n",
       "    <tr>\n",
       "      <th>642</th>\n",
       "      <td>880</td>\n",
       "      <td>830</td>\n",
       "      <td>957</td>\n",
       "      <td>46231</td>\n",
       "      <td>2023-07-11 00:00:00</td>\n",
       "      <td>POS Debit - Visa Check Card 2323 - APPLE CASH ...</td>\n",
       "      <td>-15.000</td>\n",
       "      <td>Shops</td>\n",
       "      <td>Apple Cash</td>\n",
       "      <td>apple cash</td>\n",
       "      <td>shop</td>\n",
       "    </tr>\n",
       "    <tr>\n",
       "      <th>650</th>\n",
       "      <td>880</td>\n",
       "      <td>842</td>\n",
       "      <td>971</td>\n",
       "      <td>113459</td>\n",
       "      <td>2023-07-28 19:00:00</td>\n",
       "      <td>Family Dollar</td>\n",
       "      <td>-0.410</td>\n",
       "      <td>Shops</td>\n",
       "      <td>FAMILY DOLLAR</td>\n",
       "      <td>family dollar</td>\n",
       "      <td>shop</td>\n",
       "    </tr>\n",
       "    <tr>\n",
       "      <th>654</th>\n",
       "      <td>880</td>\n",
       "      <td>844</td>\n",
       "      <td>973</td>\n",
       "      <td>104070</td>\n",
       "      <td>2023-07-27 19:00:00</td>\n",
       "      <td>Family Dollar</td>\n",
       "      <td>-3.692</td>\n",
       "      <td>Shops</td>\n",
       "      <td>FAMILY DOLLAR</td>\n",
       "      <td>family dollar</td>\n",
       "      <td>shop</td>\n",
       "    </tr>\n",
       "    <tr>\n",
       "      <th>657</th>\n",
       "      <td>880</td>\n",
       "      <td>844</td>\n",
       "      <td>973</td>\n",
       "      <td>5233</td>\n",
       "      <td>2023-07-20 19:00:00</td>\n",
       "      <td>Dollar General</td>\n",
       "      <td>-2.300</td>\n",
       "      <td>Shops</td>\n",
       "      <td>DOLLAR GENERAL</td>\n",
       "      <td>dollar general</td>\n",
       "      <td>shop</td>\n",
       "    </tr>\n",
       "    <tr>\n",
       "      <th>...</th>\n",
       "      <td>...</td>\n",
       "      <td>...</td>\n",
       "      <td>...</td>\n",
       "      <td>...</td>\n",
       "      <td>...</td>\n",
       "      <td>...</td>\n",
       "      <td>...</td>\n",
       "      <td>...</td>\n",
       "      <td>...</td>\n",
       "      <td>...</td>\n",
       "      <td>...</td>\n",
       "    </tr>\n",
       "    <tr>\n",
       "      <th>257052</th>\n",
       "      <td>880</td>\n",
       "      <td>485</td>\n",
       "      <td>554</td>\n",
       "      <td>25249</td>\n",
       "      <td>2023-07-10 00:00:00</td>\n",
       "      <td>ATM Withdrawal Plus Maryse Hemant New York NY US</td>\n",
       "      <td>-16.350</td>\n",
       "      <td>ATM</td>\n",
       "      <td>NaN</td>\n",
       "      <td>NaN</td>\n",
       "      <td>atm</td>\n",
       "    </tr>\n",
       "    <tr>\n",
       "      <th>257054</th>\n",
       "      <td>880</td>\n",
       "      <td>485</td>\n",
       "      <td>554</td>\n",
       "      <td>92133</td>\n",
       "      <td>2023-07-03 00:00:00</td>\n",
       "      <td>ATM Withdrawal Plus Lk287317 New York NY US</td>\n",
       "      <td>-60.600</td>\n",
       "      <td>ATM</td>\n",
       "      <td>NaN</td>\n",
       "      <td>NaN</td>\n",
       "      <td>atm</td>\n",
       "    </tr>\n",
       "    <tr>\n",
       "      <th>257055</th>\n",
       "      <td>880</td>\n",
       "      <td>485</td>\n",
       "      <td>554</td>\n",
       "      <td>179657</td>\n",
       "      <td>2023-07-07 00:00:00</td>\n",
       "      <td>ATM Withdrawal Plus Lk287317 New York NY US</td>\n",
       "      <td>-40.500</td>\n",
       "      <td>ATM</td>\n",
       "      <td>NaN</td>\n",
       "      <td>NaN</td>\n",
       "      <td>atm</td>\n",
       "    </tr>\n",
       "    <tr>\n",
       "      <th>257056</th>\n",
       "      <td>880</td>\n",
       "      <td>485</td>\n",
       "      <td>554</td>\n",
       "      <td>151861</td>\n",
       "      <td>2023-07-03 00:00:00</td>\n",
       "      <td>ATM Withdrawal Plus Lk287317 New York NY US</td>\n",
       "      <td>-40.500</td>\n",
       "      <td>ATM</td>\n",
       "      <td>NaN</td>\n",
       "      <td>NaN</td>\n",
       "      <td>atm</td>\n",
       "    </tr>\n",
       "    <tr>\n",
       "      <th>257061</th>\n",
       "      <td>880</td>\n",
       "      <td>489</td>\n",
       "      <td>558</td>\n",
       "      <td>56121</td>\n",
       "      <td>2023-07-18 00:00:00</td>\n",
       "      <td>NON-WF ATM WITHDRAWAL AUTHORIZED ON 1036 PENRO...</td>\n",
       "      <td>-4.000</td>\n",
       "      <td>ATM</td>\n",
       "      <td>NaN</td>\n",
       "      <td>NaN</td>\n",
       "      <td>atm</td>\n",
       "    </tr>\n",
       "  </tbody>\n",
       "</table>\n",
       "<p>47152 rows × 11 columns</p>\n",
       "</div>"
      ],
      "text/plain": [
       "        clnt_id  bank_id  acc_id  txn_id            txn_date  \\\n",
       "641         880      830     957  152713 2023-07-18 00:00:00   \n",
       "642         880      830     957   46231 2023-07-11 00:00:00   \n",
       "650         880      842     971  113459 2023-07-28 19:00:00   \n",
       "654         880      844     973  104070 2023-07-27 19:00:00   \n",
       "657         880      844     973    5233 2023-07-20 19:00:00   \n",
       "...         ...      ...     ...     ...                 ...   \n",
       "257052      880      485     554   25249 2023-07-10 00:00:00   \n",
       "257054      880      485     554   92133 2023-07-03 00:00:00   \n",
       "257055      880      485     554  179657 2023-07-07 00:00:00   \n",
       "257056      880      485     554  151861 2023-07-03 00:00:00   \n",
       "257061      880      489     558   56121 2023-07-18 00:00:00   \n",
       "\n",
       "                                                     desc     amt    cat  \\\n",
       "641     POS Debit - Visa Check Card 2323 - APPLE CASH ... -20.000  Shops   \n",
       "642     POS Debit - Visa Check Card 2323 - APPLE CASH ... -15.000  Shops   \n",
       "650                                         Family Dollar  -0.410  Shops   \n",
       "654                                         Family Dollar  -3.692  Shops   \n",
       "657                                        Dollar General  -2.300  Shops   \n",
       "...                                                   ...     ...    ...   \n",
       "257052   ATM Withdrawal Plus Maryse Hemant New York NY US -16.350    ATM   \n",
       "257054        ATM Withdrawal Plus Lk287317 New York NY US -60.600    ATM   \n",
       "257055        ATM Withdrawal Plus Lk287317 New York NY US -40.500    ATM   \n",
       "257056        ATM Withdrawal Plus Lk287317 New York NY US -40.500    ATM   \n",
       "257061  NON-WF ATM WITHDRAWAL AUTHORIZED ON 1036 PENRO...  -4.000    ATM   \n",
       "\n",
       "              merchant   lemm_merchant lemm_cat  \n",
       "641         Apple Cash      apple cash     shop  \n",
       "642         Apple Cash      apple cash     shop  \n",
       "650      FAMILY DOLLAR   family dollar     shop  \n",
       "654      FAMILY DOLLAR   family dollar     shop  \n",
       "657     DOLLAR GENERAL  dollar general     shop  \n",
       "...                ...             ...      ...  \n",
       "257052             NaN             NaN      atm  \n",
       "257054             NaN             NaN      atm  \n",
       "257055             NaN             NaN      atm  \n",
       "257056             NaN             NaN      atm  \n",
       "257061             NaN             NaN      atm  \n",
       "\n",
       "[47152 rows x 11 columns]"
      ]
     },
     "execution_count": 52,
     "metadata": {},
     "output_type": "execute_result"
    }
   ],
   "source": [
    "data[(data[\"txn_date\"]>=pd.to_datetime(\"2023-07-01\")) & (data[\"txn_date\"]<=pd.to_datetime(\"2023-07-31\"))]"
   ]
  },
  {
   "cell_type": "markdown",
   "id": "101d0fd4",
   "metadata": {},
   "source": [
    "##### How much I deposited during 2023"
   ]
  },
  {
   "cell_type": "code",
   "execution_count": 54,
   "id": "9c8e9ce3",
   "metadata": {},
   "outputs": [
    {
     "data": {
      "text/plain": [
       "3170.764"
      ]
     },
     "execution_count": 54,
     "metadata": {},
     "output_type": "execute_result"
    }
   ],
   "source": [
    "data[(data[\"txn_date\"]>=pd.to_datetime(\"2023-01-01\")) & (data[\"txn_date\"]<=pd.to_datetime(\"2023-12-31\")) & (data[\"amt\"]>0)][\"amt\"].sum()"
   ]
  },
  {
   "cell_type": "markdown",
   "id": "ec48321a",
   "metadata": {},
   "source": [
    "##### How much I added to my account between march and july 2023"
   ]
  },
  {
   "cell_type": "code",
   "execution_count": 61,
   "id": "7efacb91",
   "metadata": {},
   "outputs": [
    {
     "data": {
      "text/plain": [
       "1568.9499999999998"
      ]
     },
     "execution_count": 61,
     "metadata": {},
     "output_type": "execute_result"
    }
   ],
   "source": [
    "data[(data[\"txn_date\"]>=pd.to_datetime(\"2023-03-01\")) & (data[\"txn_date\"]<=pd.to_datetime(\"2023-07-31\")) & (data[\"amt\"]>0)][\"amt\"].sum()"
   ]
  },
  {
   "cell_type": "markdown",
   "id": "3d0420be",
   "metadata": {},
   "source": [
    "##### How much did I spend between march and july 2023"
   ]
  },
  {
   "cell_type": "code",
   "execution_count": 62,
   "id": "f846436f",
   "metadata": {},
   "outputs": [
    {
     "data": {
      "text/plain": [
       "-1213468.424"
      ]
     },
     "execution_count": 62,
     "metadata": {},
     "output_type": "execute_result"
    }
   ],
   "source": [
    "data[(data[\"txn_date\"]>=pd.to_datetime(\"2023-03-01\")) & (data[\"txn_date\"]<=pd.to_datetime(\"2023-07-31\")) & (data[\"amt\"]<0)][\"amt\"].sum()"
   ]
  },
  {
   "cell_type": "markdown",
   "id": "e2a07269",
   "metadata": {},
   "source": [
    "##### How much Did I spend on 1st day of september 2023"
   ]
  },
  {
   "cell_type": "code",
   "execution_count": 66,
   "id": "36bcb749",
   "metadata": {},
   "outputs": [
    {
     "data": {
      "text/plain": [
       "-40415.51"
      ]
     },
     "execution_count": 66,
     "metadata": {},
     "output_type": "execute_result"
    }
   ],
   "source": [
    "data[(data[\"txn_date\"]==pd.to_datetime(\"2023-09-01\")) & (data[\"amt\"]<0)][\"amt\"].sum()"
   ]
  },
  {
   "cell_type": "code",
   "execution_count": 70,
   "id": "78182ee4",
   "metadata": {},
   "outputs": [
    {
     "data": {
      "text/plain": [
       "-2472806.784"
      ]
     },
     "execution_count": 70,
     "metadata": {},
     "output_type": "execute_result"
    }
   ],
   "source": [
    "data[(data[\"txn_date\"]>=pd.to_datetime(\"2023-01-01\")) & (data[\"txn_date\"]<=pd.to_datetime(\"2023-12-31\")) & (data[\"amt\"]<0)][\"amt\"].sum()"
   ]
  },
  {
   "cell_type": "code",
   "execution_count": null,
   "id": "27d03ee9",
   "metadata": {},
   "outputs": [],
   "source": []
  }
 ],
 "metadata": {
  "kernelspec": {
   "display_name": "take_home",
   "language": "python",
   "name": "take_home"
  },
  "language_info": {
   "codemirror_mode": {
    "name": "ipython",
    "version": 3
   },
   "file_extension": ".py",
   "mimetype": "text/x-python",
   "name": "python",
   "nbconvert_exporter": "python",
   "pygments_lexer": "ipython3",
   "version": "3.11.9"
  }
 },
 "nbformat": 4,
 "nbformat_minor": 5
}
